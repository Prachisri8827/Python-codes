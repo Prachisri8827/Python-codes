{
 "cells": [
  {
   "attachments": {},
   "cell_type": "markdown",
   "metadata": {},
   "source": [
    "## conditions\n",
    "-if\n",
    "-if else\n",
    "-nested if\n",
    "-if elif else\n",
    "-match"
   ]
  },
  {
   "cell_type": "code",
   "execution_count": 4,
   "metadata": {},
   "outputs": [
    {
     "name": "stdout",
     "output_type": "stream",
     "text": [
      "you are going to run this part:\n",
      "count is even\n"
     ]
    }
   ],
   "source": [
    "count = int(input(\"enter a value:\"))\n",
    "if count>5:\n",
    "    print(\"you are going to run this part:\")\n",
    "if count>15:\n",
    "    print(\"you are going to run this part also:\")   \n",
    "if count%2 == 0:\n",
    "    print(\"count is even\")     "
   ]
  },
  {
   "attachments": {},
   "cell_type": "markdown",
   "metadata": {},
   "source": [
    "multiple conditions in an if statement"
   ]
  },
  {
   "cell_type": "code",
   "execution_count": 5,
   "metadata": {},
   "outputs": [
    {
     "name": "stdout",
     "output_type": "stream",
     "text": [
      "13 is greater\n"
     ]
    }
   ],
   "source": [
    "a = 10\n",
    "b = 5\n",
    "c = 13\n",
    "\n",
    "if a>b and a>c:\n",
    "    print(f'{a} is greater')\n",
    "if b>a and b>c:\n",
    "    print(f'{b} is greater')\n",
    "if c>a and c>b:\n",
    "    print(f'{c} is greater')        "
   ]
  },
  {
   "cell_type": "code",
   "execution_count": 7,
   "metadata": {},
   "outputs": [
    {
     "name": "stdout",
     "output_type": "stream",
     "text": [
      "13 is greater\n"
     ]
    }
   ],
   "source": [
    "if a>b and a>c:\n",
    "    print(f'{a} is greater')\n",
    "elif b>a and b>c:\n",
    "    print(f'{b} is greater')\n",
    "else:\n",
    "    print(f'{c} is greater')        "
   ]
  },
  {
   "cell_type": "code",
   "execution_count": 10,
   "metadata": {},
   "outputs": [
    {
     "name": "stdout",
     "output_type": "stream",
     "text": [
      "hurray🙌🙌\n"
     ]
    }
   ],
   "source": [
    "username = input(\"ener your name\")\n",
    "email = input(\"enter your email\")\n",
    "pwd = input(\"enter your password\")\n",
    "pwd2 = input(\"confirm your password\")\n",
    "\n",
    "if len(username) >= 6 and len(username) <= 15:\n",
    "    if '@' in email and email.islower() and len(email) > 10:\n",
    "        if len(pwd) >= 6 and pwd != username:\n",
    "            if pwd == pwd2:\n",
    "                print(\"hurray🙌🙌\")\n",
    "            else:\n",
    "                print(\"passwords do not match😒\")    \n",
    "        else:\n",
    "            print(\"password is invalid😒\")   \n",
    "    else:\n",
    "        print(\"email is invalid😢\")     \n",
    "else:\n",
    "    print(\"username is invalid👹👿\")                "
   ]
  },
  {
   "cell_type": "code",
   "execution_count": null,
   "metadata": {},
   "outputs": [],
   "source": []
  },
  {
   "cell_type": "code",
   "execution_count": null,
   "metadata": {},
   "outputs": [],
   "source": []
  }
 ],
 "metadata": {
  "kernelspec": {
   "display_name": "base",
   "language": "python",
   "name": "python3"
  },
  "language_info": {
   "codemirror_mode": {
    "name": "ipython",
    "version": 3
   },
   "file_extension": ".py",
   "mimetype": "text/x-python",
   "name": "python",
   "nbconvert_exporter": "python",
   "pygments_lexer": "ipython3",
   "version": "3.10.8"
  },
  "orig_nbformat": 4,
  "vscode": {
   "interpreter": {
    "hash": "5b6002d1e928962cd19dde4287e8a81266a3dfa22c12012df96bb19a6e27b9c0"
   }
  }
 },
 "nbformat": 4,
 "nbformat_minor": 2
}
