{
 "cells": [
  {
   "cell_type": "code",
   "execution_count": 1,
   "metadata": {},
   "outputs": [
    {
     "name": "stdout",
     "output_type": "stream",
     "text": [
      "{'name': 'Edward Cullen', 'class': '8th', 'roll no': 15, 'marks': 98}\n"
     ]
    }
   ],
   "source": [
    "student = {\n",
    "    'name' : 'Edward Cullen',\n",
    "    'class' : '8th',\n",
    "    'roll no' : 15,\n",
    "    'marks' : 98\n",
    "}\n",
    "\n",
    "print(student)"
   ]
  },
  {
   "cell_type": "code",
   "execution_count": 2,
   "metadata": {},
   "outputs": [
    {
     "name": "stdout",
     "output_type": "stream",
     "text": [
      "Edward Cullen\n",
      "8th\n"
     ]
    }
   ],
   "source": [
    "print(student['name'])\n",
    "print(student['class'])"
   ]
  },
  {
   "cell_type": "code",
   "execution_count": 3,
   "metadata": {},
   "outputs": [
    {
     "name": "stdout",
     "output_type": "stream",
     "text": [
      "Edward Cullen\n",
      "8th\n",
      "None\n"
     ]
    }
   ],
   "source": [
    "print(student.get('name'))\n",
    "print(student.get('class'))\n",
    "print(student.get('english'))"
   ]
  },
  {
   "cell_type": "code",
   "execution_count": 4,
   "metadata": {},
   "outputs": [
    {
     "name": "stdout",
     "output_type": "stream",
     "text": [
      "{'name': 'Edward Cullen', 'class': '8th', 'roll no': 15, 'marks': 98, 'school': 'LPS', 'father': 'carliel cullen'}\n"
     ]
    }
   ],
   "source": [
    "# add a new entry\n",
    "student['school'] = 'LPS'\n",
    "student['father'] = 'carliel cullen'\n",
    "print(student)"
   ]
  },
  {
   "cell_type": "code",
   "execution_count": 5,
   "metadata": {},
   "outputs": [
    {
     "name": "stdout",
     "output_type": "stream",
     "text": [
      "{'name': 'Edward Cullen', 'class': '12th', 'roll no': 15, 'marks': 98, 'school': 'LPS', 'father': 'carliel cullen'}\n"
     ]
    }
   ],
   "source": [
    "#update an entry\n",
    "student['class'] = '12th'\n",
    "\n",
    "print(student)"
   ]
  },
  {
   "cell_type": "code",
   "execution_count": 6,
   "metadata": {},
   "outputs": [
    {
     "name": "stdout",
     "output_type": "stream",
     "text": [
      "{'series': 'Broken But Beautiful', 'total season': 3, 'total episode': 32, 'star cast': 'vikrant messy', 'star cast 2': 'harleen sethi'}\n"
     ]
    }
   ],
   "source": [
    "show = {\n",
    "    'series' : 'Broken But Beautiful',\n",
    "    'total season' : 3,\n",
    "    'total episode' : 32,\n",
    "    'star cast' : 'vikrant messy',\n",
    "    'star cast 2' : 'harleen sethi'\n",
    "\n",
    "}\n",
    "\n",
    "print(show)"
   ]
  },
  {
   "cell_type": "code",
   "execution_count": 8,
   "metadata": {},
   "outputs": [
    {
     "name": "stdout",
     "output_type": "stream",
     "text": [
      "series\n",
      "total season\n",
      "total episode\n",
      "star cast\n",
      "star cast 2\n"
     ]
    }
   ],
   "source": [
    "for key in show:\n",
    "    print(key)"
   ]
  },
  {
   "cell_type": "code",
   "execution_count": 9,
   "metadata": {},
   "outputs": [
    {
     "name": "stdout",
     "output_type": "stream",
     "text": [
      "series Broken But Beautiful\n",
      "total season 3\n",
      "total episode 32\n",
      "star cast vikrant messy\n",
      "star cast 2 harleen sethi\n"
     ]
    }
   ],
   "source": [
    "for key in show:\n",
    "    print(key, show[key])"
   ]
  },
  {
   "cell_type": "code",
   "execution_count": 10,
   "metadata": {},
   "outputs": [
    {
     "name": "stdout",
     "output_type": "stream",
     "text": [
      "series Broken But Beautiful\n",
      "total season 3\n",
      "total episode 32\n",
      "star cast vikrant messy\n",
      "star cast 2 harleen sethi\n"
     ]
    }
   ],
   "source": [
    "for k, v in show.items():\n",
    "    print(k,v)"
   ]
  },
  {
   "cell_type": "code",
   "execution_count": 12,
   "metadata": {},
   "outputs": [
    {
     "name": "stdout",
     "output_type": "stream",
     "text": [
      "dict_keys(['series', 'total season', 'total episode', 'star cast', 'star cast 2'])\n",
      "dict_values(['Broken But Beautiful', 3, 32, 'vikrant messy', 'harleen sethi'])\n",
      "dict_items([('series', 'Broken But Beautiful'), ('total season', 3), ('total episode', 32), ('star cast', 'vikrant messy'), ('star cast 2', 'harleen sethi')])\n"
     ]
    }
   ],
   "source": [
    "print(show.keys())\n",
    "print(show.values())\n",
    "print(show.items())"
   ]
  },
  {
   "cell_type": "code",
   "execution_count": 13,
   "metadata": {},
   "outputs": [
    {
     "data": {
      "text/plain": [
       "'vikrant messy'"
      ]
     },
     "execution_count": 13,
     "metadata": {},
     "output_type": "execute_result"
    }
   ],
   "source": [
    "show.pop('star cast')"
   ]
  },
  {
   "cell_type": "code",
   "execution_count": null,
   "metadata": {},
   "outputs": [],
   "source": []
  }
 ],
 "metadata": {
  "kernelspec": {
   "display_name": "base",
   "language": "python",
   "name": "python3"
  },
  "language_info": {
   "codemirror_mode": {
    "name": "ipython",
    "version": 3
   },
   "file_extension": ".py",
   "mimetype": "text/x-python",
   "name": "python",
   "nbconvert_exporter": "python",
   "pygments_lexer": "ipython3",
   "version": "3.10.8"
  },
  "orig_nbformat": 4,
  "vscode": {
   "interpreter": {
    "hash": "5b6002d1e928962cd19dde4287e8a81266a3dfa22c12012df96bb19a6e27b9c0"
   }
  }
 },
 "nbformat": 4,
 "nbformat_minor": 2
}
